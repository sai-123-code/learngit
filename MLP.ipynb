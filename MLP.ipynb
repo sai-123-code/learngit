{
  "nbformat": 4,
  "nbformat_minor": 0,
  "metadata": {
    "colab": {
      "name": "MLP.ipynb",
      "provenance": [],
      "collapsed_sections": [],
      "authorship_tag": "ABX9TyP9qFI4jhgXW/mKKLixAMBe",
      "include_colab_link": true
    },
    "kernelspec": {
      "name": "python3",
      "display_name": "Python 3"
    }
  },
  "cells": [
    {
      "cell_type": "markdown",
      "metadata": {
        "id": "view-in-github",
        "colab_type": "text"
      },
      "source": [
        "<a href=\"https://colab.research.google.com/github/sai-123-code/learngit/blob/master/MLP.ipynb\" target=\"_parent\"><img src=\"https://colab.research.google.com/assets/colab-badge.svg\" alt=\"Open In Colab\"/></a>"
      ]
    },
    {
      "cell_type": "code",
      "metadata": {
        "id": "dx8EVWAvQgnI"
      },
      "source": [
        "import tensorflow as tf\n",
        "import numpy as np\n",
        "from tensorflow import keras\n",
        "import matplotlib.pyplot as plt\n",
        "# For splitting our entire data into two parts\n",
        "from sklearn.model_selection import train_test_split\n"
      ],
      "execution_count": 1,
      "outputs": []
    },
    {
      "cell_type": "code",
      "metadata": {
        "id": "FrcVbSf6QtxZ"
      },
      "source": [
        "# Importing dataset\n",
        "from sklearn.datasets import load_iris\n"
      ],
      "execution_count": 2,
      "outputs": []
    },
    {
      "cell_type": "code",
      "metadata": {
        "colab": {
          "base_uri": "https://localhost:8080/"
        },
        "id": "01-j9MkeQ1nN",
        "outputId": "7bcbb6dd-b75a-4624-b2e7-ed827e336876"
      },
      "source": [
        "data = load_iris()\n",
        "X = data['data']\n",
        "y = data['target']\n",
        "\n",
        "print('Features of Instance 1:', X[0])\n",
        "print('Target of Instance 1:', y[0])\n"
      ],
      "execution_count": 3,
      "outputs": [
        {
          "output_type": "stream",
          "text": [
            "Features of Instance 1: [5.1 3.5 1.4 0.2]\n",
            "Target of Instance 1: 0\n"
          ],
          "name": "stdout"
        }
      ]
    },
    {
      "cell_type": "code",
      "metadata": {
        "colab": {
          "base_uri": "https://localhost:8080/"
        },
        "id": "WJqYzwA6Q5ht",
        "outputId": "6f84f883-14c2-4adb-ab97-b9643c4d04f9"
      },
      "source": [
        "# Split the data into training and testing sets\n",
        "X_train, X_test, y_train, y_test  = train_test_split(X,y,test_size=0.2)\n",
        "\n",
        "# Let's view the shapes of all train and test data.\n",
        "print('Shape of training data:', X_train.shape)\n",
        "print('Shape of training targets:', y_train.shape)\n",
        "print('Shape of test data:', X_test.shape)\n",
        "print('Shape of test targets:', y_test.shape)\n"
      ],
      "execution_count": 4,
      "outputs": [
        {
          "output_type": "stream",
          "text": [
            "Shape of training data: (120, 4)\n",
            "Shape of training targets: (120,)\n",
            "Shape of test data: (30, 4)\n",
            "Shape of test targets: (30,)\n"
          ],
          "name": "stdout"
        }
      ]
    },
    {
      "cell_type": "code",
      "metadata": {
        "colab": {
          "base_uri": "https://localhost:8080/"
        },
        "id": "g0Lycv6CRBPX",
        "outputId": "ec743bf4-a80e-463f-8d12-0c25c1777157"
      },
      "source": [
        "# Building ANN Model: Fully-conected (Dense) layers: \n",
        "#   Input layer with 4 nodes, \n",
        "#   1 hiddden layer with 10 nodes and 'relu' activation function\n",
        "#   Output layer with 3 nodes and 'softmax' activation function\n",
        "model = keras.models.Sequential([\n",
        "    keras.layers.Dense(units=10, activation='relu', input_shape=(4,)),\n",
        "    keras.layers.Dense(units=3, activation='softmax')\n",
        "])\n",
        "\n",
        "# View the Model Summary\n",
        "print(model.summary())\n"
      ],
      "execution_count": 10,
      "outputs": [
        {
          "output_type": "stream",
          "text": [
            "Model: \"sequential_1\"\n",
            "_________________________________________________________________\n",
            "Layer (type)                 Output Shape              Param #   \n",
            "=================================================================\n",
            "dense_2 (Dense)              (None, 10)                50        \n",
            "_________________________________________________________________\n",
            "dense_3 (Dense)              (None, 3)                 33        \n",
            "=================================================================\n",
            "Total params: 83\n",
            "Trainable params: 83\n",
            "Non-trainable params: 0\n",
            "_________________________________________________________________\n",
            "None\n"
          ],
          "name": "stdout"
        }
      ]
    },
    {
      "cell_type": "code",
      "metadata": {
        "id": "NRLunHmlRP1M"
      },
      "source": [
        "model.compile(optimizer='rmsprop',loss='sparse_categorical_crossentropy',metrics=['accuracy'])"
      ],
      "execution_count": 11,
      "outputs": []
    },
    {
      "cell_type": "code",
      "metadata": {
        "colab": {
          "base_uri": "https://localhost:8080/"
        },
        "id": "1DYGH_oJRTWi",
        "outputId": "f227539e-c170-4984-8293-802f0e098108"
      },
      "source": [
        "model.fit(X_train,y_train,epochs=100,validation_data=(X_test,y_test))"
      ],
      "execution_count": 12,
      "outputs": [
        {
          "output_type": "stream",
          "text": [
            "Epoch 1/100\n",
            "4/4 [==============================] - 0s 40ms/step - loss: 4.5307 - accuracy: 0.3250 - val_loss: 4.2034 - val_accuracy: 0.3667\n",
            "Epoch 2/100\n",
            "4/4 [==============================] - 0s 8ms/step - loss: 4.2530 - accuracy: 0.3250 - val_loss: 3.9958 - val_accuracy: 0.3667\n",
            "Epoch 3/100\n",
            "4/4 [==============================] - 0s 9ms/step - loss: 4.0577 - accuracy: 0.3250 - val_loss: 3.8303 - val_accuracy: 0.3667\n",
            "Epoch 4/100\n",
            "4/4 [==============================] - 0s 8ms/step - loss: 3.8911 - accuracy: 0.3250 - val_loss: 3.6778 - val_accuracy: 0.3667\n",
            "Epoch 5/100\n",
            "4/4 [==============================] - 0s 8ms/step - loss: 3.7371 - accuracy: 0.3250 - val_loss: 3.5335 - val_accuracy: 0.3667\n",
            "Epoch 6/100\n",
            "4/4 [==============================] - 0s 8ms/step - loss: 3.5910 - accuracy: 0.3250 - val_loss: 3.3965 - val_accuracy: 0.3667\n",
            "Epoch 7/100\n",
            "4/4 [==============================] - 0s 8ms/step - loss: 3.4514 - accuracy: 0.3250 - val_loss: 3.2671 - val_accuracy: 0.3667\n",
            "Epoch 8/100\n",
            "4/4 [==============================] - 0s 7ms/step - loss: 3.3177 - accuracy: 0.3250 - val_loss: 3.1379 - val_accuracy: 0.3667\n",
            "Epoch 9/100\n",
            "4/4 [==============================] - 0s 8ms/step - loss: 3.1866 - accuracy: 0.3250 - val_loss: 3.0144 - val_accuracy: 0.3667\n",
            "Epoch 10/100\n",
            "4/4 [==============================] - 0s 7ms/step - loss: 3.0609 - accuracy: 0.3250 - val_loss: 2.8961 - val_accuracy: 0.3667\n",
            "Epoch 11/100\n",
            "4/4 [==============================] - 0s 7ms/step - loss: 2.9393 - accuracy: 0.3250 - val_loss: 2.7790 - val_accuracy: 0.3667\n",
            "Epoch 12/100\n",
            "4/4 [==============================] - 0s 6ms/step - loss: 2.8187 - accuracy: 0.3250 - val_loss: 2.6628 - val_accuracy: 0.3667\n",
            "Epoch 13/100\n",
            "4/4 [==============================] - 0s 5ms/step - loss: 2.7011 - accuracy: 0.3250 - val_loss: 2.5520 - val_accuracy: 0.3667\n",
            "Epoch 14/100\n",
            "4/4 [==============================] - 0s 6ms/step - loss: 2.5874 - accuracy: 0.3250 - val_loss: 2.4429 - val_accuracy: 0.3667\n",
            "Epoch 15/100\n",
            "4/4 [==============================] - 0s 6ms/step - loss: 2.4754 - accuracy: 0.3250 - val_loss: 2.3345 - val_accuracy: 0.3667\n",
            "Epoch 16/100\n",
            "4/4 [==============================] - 0s 6ms/step - loss: 2.3662 - accuracy: 0.3250 - val_loss: 2.2327 - val_accuracy: 0.3667\n",
            "Epoch 17/100\n",
            "4/4 [==============================] - 0s 6ms/step - loss: 2.2631 - accuracy: 0.3250 - val_loss: 2.1353 - val_accuracy: 0.3667\n",
            "Epoch 18/100\n",
            "4/4 [==============================] - 0s 5ms/step - loss: 2.1651 - accuracy: 0.3250 - val_loss: 2.0420 - val_accuracy: 0.3667\n",
            "Epoch 19/100\n",
            "4/4 [==============================] - 0s 6ms/step - loss: 2.0715 - accuracy: 0.3250 - val_loss: 1.9526 - val_accuracy: 0.3667\n",
            "Epoch 20/100\n",
            "4/4 [==============================] - 0s 6ms/step - loss: 1.9829 - accuracy: 0.3250 - val_loss: 1.8693 - val_accuracy: 0.3667\n",
            "Epoch 21/100\n",
            "4/4 [==============================] - 0s 6ms/step - loss: 1.8985 - accuracy: 0.3250 - val_loss: 1.7914 - val_accuracy: 0.3667\n",
            "Epoch 22/100\n",
            "4/4 [==============================] - 0s 5ms/step - loss: 1.8181 - accuracy: 0.3250 - val_loss: 1.7158 - val_accuracy: 0.3667\n",
            "Epoch 23/100\n",
            "4/4 [==============================] - 0s 6ms/step - loss: 1.7409 - accuracy: 0.3250 - val_loss: 1.6452 - val_accuracy: 0.3667\n",
            "Epoch 24/100\n",
            "4/4 [==============================] - 0s 5ms/step - loss: 1.6704 - accuracy: 0.3250 - val_loss: 1.5797 - val_accuracy: 0.3667\n",
            "Epoch 25/100\n",
            "4/4 [==============================] - 0s 5ms/step - loss: 1.6046 - accuracy: 0.3250 - val_loss: 1.5174 - val_accuracy: 0.3667\n",
            "Epoch 26/100\n",
            "4/4 [==============================] - 0s 6ms/step - loss: 1.5436 - accuracy: 0.3250 - val_loss: 1.4600 - val_accuracy: 0.3667\n",
            "Epoch 27/100\n",
            "4/4 [==============================] - 0s 6ms/step - loss: 1.4874 - accuracy: 0.3250 - val_loss: 1.4068 - val_accuracy: 0.3667\n",
            "Epoch 28/100\n",
            "4/4 [==============================] - 0s 7ms/step - loss: 1.4349 - accuracy: 0.3250 - val_loss: 1.3542 - val_accuracy: 0.3667\n",
            "Epoch 29/100\n",
            "4/4 [==============================] - 0s 6ms/step - loss: 1.3853 - accuracy: 0.3250 - val_loss: 1.3079 - val_accuracy: 0.3667\n",
            "Epoch 30/100\n",
            "4/4 [==============================] - 0s 5ms/step - loss: 1.3401 - accuracy: 0.3250 - val_loss: 1.2625 - val_accuracy: 0.3667\n",
            "Epoch 31/100\n",
            "4/4 [==============================] - 0s 6ms/step - loss: 1.2964 - accuracy: 0.3250 - val_loss: 1.2216 - val_accuracy: 0.3667\n",
            "Epoch 32/100\n",
            "4/4 [==============================] - 0s 6ms/step - loss: 1.2567 - accuracy: 0.3250 - val_loss: 1.1846 - val_accuracy: 0.3667\n",
            "Epoch 33/100\n",
            "4/4 [==============================] - 0s 7ms/step - loss: 1.2204 - accuracy: 0.3250 - val_loss: 1.1499 - val_accuracy: 0.3667\n",
            "Epoch 34/100\n",
            "4/4 [==============================] - 0s 6ms/step - loss: 1.1868 - accuracy: 0.3250 - val_loss: 1.1180 - val_accuracy: 0.3667\n",
            "Epoch 35/100\n",
            "4/4 [==============================] - 0s 5ms/step - loss: 1.1553 - accuracy: 0.3250 - val_loss: 1.0880 - val_accuracy: 0.3667\n",
            "Epoch 36/100\n",
            "4/4 [==============================] - 0s 6ms/step - loss: 1.1259 - accuracy: 0.3250 - val_loss: 1.0600 - val_accuracy: 0.3667\n",
            "Epoch 37/100\n",
            "4/4 [==============================] - 0s 7ms/step - loss: 1.0986 - accuracy: 0.3250 - val_loss: 1.0342 - val_accuracy: 0.3667\n",
            "Epoch 38/100\n",
            "4/4 [==============================] - 0s 6ms/step - loss: 1.0731 - accuracy: 0.3250 - val_loss: 1.0101 - val_accuracy: 0.3667\n",
            "Epoch 39/100\n",
            "4/4 [==============================] - 0s 7ms/step - loss: 1.0483 - accuracy: 0.3250 - val_loss: 0.9868 - val_accuracy: 0.3667\n",
            "Epoch 40/100\n",
            "4/4 [==============================] - 0s 7ms/step - loss: 1.0248 - accuracy: 0.3250 - val_loss: 0.9637 - val_accuracy: 0.3667\n",
            "Epoch 41/100\n",
            "4/4 [==============================] - 0s 6ms/step - loss: 1.0022 - accuracy: 0.3250 - val_loss: 0.9429 - val_accuracy: 0.3667\n",
            "Epoch 42/100\n",
            "4/4 [==============================] - 0s 6ms/step - loss: 0.9811 - accuracy: 0.3250 - val_loss: 0.9225 - val_accuracy: 0.3667\n",
            "Epoch 43/100\n",
            "4/4 [==============================] - 0s 6ms/step - loss: 0.9618 - accuracy: 0.3250 - val_loss: 0.9036 - val_accuracy: 0.3667\n",
            "Epoch 44/100\n",
            "4/4 [==============================] - 0s 6ms/step - loss: 0.9430 - accuracy: 0.3250 - val_loss: 0.8868 - val_accuracy: 0.3667\n",
            "Epoch 45/100\n",
            "4/4 [==============================] - 0s 6ms/step - loss: 0.9255 - accuracy: 0.3250 - val_loss: 0.8706 - val_accuracy: 0.3667\n",
            "Epoch 46/100\n",
            "4/4 [==============================] - 0s 6ms/step - loss: 0.9093 - accuracy: 0.3333 - val_loss: 0.8560 - val_accuracy: 0.3667\n",
            "Epoch 47/100\n",
            "4/4 [==============================] - 0s 6ms/step - loss: 0.8930 - accuracy: 0.3417 - val_loss: 0.8392 - val_accuracy: 0.3667\n",
            "Epoch 48/100\n",
            "4/4 [==============================] - 0s 7ms/step - loss: 0.8760 - accuracy: 0.3583 - val_loss: 0.8225 - val_accuracy: 0.3667\n",
            "Epoch 49/100\n",
            "4/4 [==============================] - 0s 6ms/step - loss: 0.8591 - accuracy: 0.4000 - val_loss: 0.8055 - val_accuracy: 0.3667\n",
            "Epoch 50/100\n",
            "4/4 [==============================] - 0s 6ms/step - loss: 0.8424 - accuracy: 0.4333 - val_loss: 0.7906 - val_accuracy: 0.4000\n",
            "Epoch 51/100\n",
            "4/4 [==============================] - 0s 6ms/step - loss: 0.8268 - accuracy: 0.4333 - val_loss: 0.7755 - val_accuracy: 0.4667\n",
            "Epoch 52/100\n",
            "4/4 [==============================] - 0s 6ms/step - loss: 0.8122 - accuracy: 0.4667 - val_loss: 0.7621 - val_accuracy: 0.5667\n",
            "Epoch 53/100\n",
            "4/4 [==============================] - 0s 6ms/step - loss: 0.7976 - accuracy: 0.5583 - val_loss: 0.7491 - val_accuracy: 0.6000\n",
            "Epoch 54/100\n",
            "4/4 [==============================] - 0s 6ms/step - loss: 0.7842 - accuracy: 0.6250 - val_loss: 0.7374 - val_accuracy: 0.7667\n",
            "Epoch 55/100\n",
            "4/4 [==============================] - 0s 6ms/step - loss: 0.7740 - accuracy: 0.7500 - val_loss: 0.7301 - val_accuracy: 0.8333\n",
            "Epoch 56/100\n",
            "4/4 [==============================] - 0s 7ms/step - loss: 0.7669 - accuracy: 0.8083 - val_loss: 0.7234 - val_accuracy: 0.8667\n",
            "Epoch 57/100\n",
            "4/4 [==============================] - 0s 7ms/step - loss: 0.7606 - accuracy: 0.9000 - val_loss: 0.7181 - val_accuracy: 0.9000\n",
            "Epoch 58/100\n",
            "4/4 [==============================] - 0s 6ms/step - loss: 0.7559 - accuracy: 0.8833 - val_loss: 0.7133 - val_accuracy: 0.9000\n",
            "Epoch 59/100\n",
            "4/4 [==============================] - 0s 6ms/step - loss: 0.7515 - accuracy: 0.8917 - val_loss: 0.7098 - val_accuracy: 0.9000\n",
            "Epoch 60/100\n",
            "4/4 [==============================] - 0s 6ms/step - loss: 0.7477 - accuracy: 0.9000 - val_loss: 0.7054 - val_accuracy: 0.9000\n",
            "Epoch 61/100\n",
            "4/4 [==============================] - 0s 6ms/step - loss: 0.7439 - accuracy: 0.9000 - val_loss: 0.7015 - val_accuracy: 0.9000\n",
            "Epoch 62/100\n",
            "4/4 [==============================] - 0s 6ms/step - loss: 0.7401 - accuracy: 0.9167 - val_loss: 0.6982 - val_accuracy: 0.9000\n",
            "Epoch 63/100\n",
            "4/4 [==============================] - 0s 6ms/step - loss: 0.7369 - accuracy: 0.8750 - val_loss: 0.6946 - val_accuracy: 0.9000\n",
            "Epoch 64/100\n",
            "4/4 [==============================] - 0s 6ms/step - loss: 0.7333 - accuracy: 0.9083 - val_loss: 0.6914 - val_accuracy: 0.9000\n",
            "Epoch 65/100\n",
            "4/4 [==============================] - 0s 6ms/step - loss: 0.7298 - accuracy: 0.9000 - val_loss: 0.6877 - val_accuracy: 0.9000\n",
            "Epoch 66/100\n",
            "4/4 [==============================] - 0s 6ms/step - loss: 0.7265 - accuracy: 0.9083 - val_loss: 0.6839 - val_accuracy: 0.9000\n",
            "Epoch 67/100\n",
            "4/4 [==============================] - 0s 6ms/step - loss: 0.7234 - accuracy: 0.9083 - val_loss: 0.6810 - val_accuracy: 0.9000\n",
            "Epoch 68/100\n",
            "4/4 [==============================] - 0s 6ms/step - loss: 0.7199 - accuracy: 0.9167 - val_loss: 0.6781 - val_accuracy: 0.9000\n",
            "Epoch 69/100\n",
            "4/4 [==============================] - 0s 6ms/step - loss: 0.7167 - accuracy: 0.9167 - val_loss: 0.6749 - val_accuracy: 0.9000\n",
            "Epoch 70/100\n",
            "4/4 [==============================] - 0s 6ms/step - loss: 0.7140 - accuracy: 0.9167 - val_loss: 0.6717 - val_accuracy: 0.9000\n",
            "Epoch 71/100\n",
            "4/4 [==============================] - 0s 6ms/step - loss: 0.7111 - accuracy: 0.9083 - val_loss: 0.6681 - val_accuracy: 0.9000\n",
            "Epoch 72/100\n",
            "4/4 [==============================] - 0s 6ms/step - loss: 0.7079 - accuracy: 0.9167 - val_loss: 0.6658 - val_accuracy: 0.9000\n",
            "Epoch 73/100\n",
            "4/4 [==============================] - 0s 7ms/step - loss: 0.7053 - accuracy: 0.9167 - val_loss: 0.6622 - val_accuracy: 0.9333\n",
            "Epoch 74/100\n",
            "4/4 [==============================] - 0s 6ms/step - loss: 0.7024 - accuracy: 0.9167 - val_loss: 0.6596 - val_accuracy: 0.9000\n",
            "Epoch 75/100\n",
            "4/4 [==============================] - 0s 6ms/step - loss: 0.6995 - accuracy: 0.9167 - val_loss: 0.6568 - val_accuracy: 0.9000\n",
            "Epoch 76/100\n",
            "4/4 [==============================] - 0s 6ms/step - loss: 0.6968 - accuracy: 0.9250 - val_loss: 0.6546 - val_accuracy: 0.9333\n",
            "Epoch 77/100\n",
            "4/4 [==============================] - 0s 7ms/step - loss: 0.6945 - accuracy: 0.9167 - val_loss: 0.6516 - val_accuracy: 0.9333\n",
            "Epoch 78/100\n",
            "4/4 [==============================] - 0s 6ms/step - loss: 0.6917 - accuracy: 0.9167 - val_loss: 0.6492 - val_accuracy: 0.9000\n",
            "Epoch 79/100\n",
            "4/4 [==============================] - 0s 7ms/step - loss: 0.6890 - accuracy: 0.9250 - val_loss: 0.6463 - val_accuracy: 0.9000\n",
            "Epoch 80/100\n",
            "4/4 [==============================] - 0s 6ms/step - loss: 0.6864 - accuracy: 0.9167 - val_loss: 0.6438 - val_accuracy: 0.9667\n",
            "Epoch 81/100\n",
            "4/4 [==============================] - 0s 6ms/step - loss: 0.6842 - accuracy: 0.9250 - val_loss: 0.6411 - val_accuracy: 0.9333\n",
            "Epoch 82/100\n",
            "4/4 [==============================] - 0s 6ms/step - loss: 0.6813 - accuracy: 0.9250 - val_loss: 0.6388 - val_accuracy: 0.9667\n",
            "Epoch 83/100\n",
            "4/4 [==============================] - 0s 6ms/step - loss: 0.6789 - accuracy: 0.9250 - val_loss: 0.6360 - val_accuracy: 0.9000\n",
            "Epoch 84/100\n",
            "4/4 [==============================] - 0s 6ms/step - loss: 0.6767 - accuracy: 0.9250 - val_loss: 0.6342 - val_accuracy: 0.9667\n",
            "Epoch 85/100\n",
            "4/4 [==============================] - 0s 6ms/step - loss: 0.6741 - accuracy: 0.9250 - val_loss: 0.6310 - val_accuracy: 0.9667\n",
            "Epoch 86/100\n",
            "4/4 [==============================] - 0s 6ms/step - loss: 0.6717 - accuracy: 0.9250 - val_loss: 0.6286 - val_accuracy: 0.9667\n",
            "Epoch 87/100\n",
            "4/4 [==============================] - 0s 7ms/step - loss: 0.6692 - accuracy: 0.9250 - val_loss: 0.6266 - val_accuracy: 0.9667\n",
            "Epoch 88/100\n",
            "4/4 [==============================] - 0s 8ms/step - loss: 0.6667 - accuracy: 0.9250 - val_loss: 0.6239 - val_accuracy: 0.9667\n",
            "Epoch 89/100\n",
            "4/4 [==============================] - 0s 7ms/step - loss: 0.6646 - accuracy: 0.9250 - val_loss: 0.6217 - val_accuracy: 0.9667\n",
            "Epoch 90/100\n",
            "4/4 [==============================] - 0s 6ms/step - loss: 0.6621 - accuracy: 0.9250 - val_loss: 0.6196 - val_accuracy: 0.9667\n",
            "Epoch 91/100\n",
            "4/4 [==============================] - 0s 6ms/step - loss: 0.6600 - accuracy: 0.9250 - val_loss: 0.6174 - val_accuracy: 0.9667\n",
            "Epoch 92/100\n",
            "4/4 [==============================] - 0s 5ms/step - loss: 0.6578 - accuracy: 0.9250 - val_loss: 0.6150 - val_accuracy: 0.9667\n",
            "Epoch 93/100\n",
            "4/4 [==============================] - 0s 6ms/step - loss: 0.6555 - accuracy: 0.9250 - val_loss: 0.6130 - val_accuracy: 0.9667\n",
            "Epoch 94/100\n",
            "4/4 [==============================] - 0s 5ms/step - loss: 0.6536 - accuracy: 0.9250 - val_loss: 0.6109 - val_accuracy: 0.9667\n",
            "Epoch 95/100\n",
            "4/4 [==============================] - 0s 6ms/step - loss: 0.6512 - accuracy: 0.9250 - val_loss: 0.6089 - val_accuracy: 0.9667\n",
            "Epoch 96/100\n",
            "4/4 [==============================] - 0s 5ms/step - loss: 0.6493 - accuracy: 0.9250 - val_loss: 0.6067 - val_accuracy: 0.9667\n",
            "Epoch 97/100\n",
            "4/4 [==============================] - 0s 7ms/step - loss: 0.6471 - accuracy: 0.9333 - val_loss: 0.6048 - val_accuracy: 0.9667\n",
            "Epoch 98/100\n",
            "4/4 [==============================] - 0s 6ms/step - loss: 0.6450 - accuracy: 0.9250 - val_loss: 0.6029 - val_accuracy: 0.9667\n",
            "Epoch 99/100\n",
            "4/4 [==============================] - 0s 7ms/step - loss: 0.6430 - accuracy: 0.9250 - val_loss: 0.6010 - val_accuracy: 0.9667\n",
            "Epoch 100/100\n",
            "4/4 [==============================] - 0s 6ms/step - loss: 0.6409 - accuracy: 0.9250 - val_loss: 0.5991 - val_accuracy: 0.9667\n"
          ],
          "name": "stdout"
        },
        {
          "output_type": "execute_result",
          "data": {
            "text/plain": [
              "<tensorflow.python.keras.callbacks.History at 0x7fe070cf8748>"
            ]
          },
          "metadata": {
            "tags": []
          },
          "execution_count": 12
        }
      ]
    },
    {
      "cell_type": "code",
      "metadata": {
        "colab": {
          "base_uri": "https://localhost:8080/",
          "height": 297
        },
        "id": "aw7thIHnRhp1",
        "outputId": "06f3fd55-af9c-4ec0-f9b0-25eafbcbba89"
      },
      "source": [
        "plt.plot(model.history.history['accuracy'],label='Train Accuracy')\n",
        "plt.plot(model.history.history['val_accuracy'],label='Test Accuracy')\n",
        "plt.xlabel('Epochs')\n",
        "plt.ylabel('Accuracy')\n",
        "plt.legend()\n"
      ],
      "execution_count": 14,
      "outputs": [
        {
          "output_type": "execute_result",
          "data": {
            "text/plain": [
              "<matplotlib.legend.Legend at 0x7fe06fb454a8>"
            ]
          },
          "metadata": {
            "tags": []
          },
          "execution_count": 14
        },
        {
          "output_type": "display_data",
          "data": {
            "image/png": "[encoded data removed]",
            "text/plain": [
              "<Figure size 432x288 with 1 Axes>"
            ]
          },
          "metadata": {
            "tags": [],
            "needs_background": "light"
          }
        }
      ]
    },
    {
      "cell_type": "code",
      "metadata": {
        "colab": {
          "base_uri": "https://localhost:8080/",
          "height": 297
        },
        "id": "E7oMYhVERsXK",
        "outputId": "185353b4-342f-44c4-9bbb-63a3729c98d8"
      },
      "source": [
        "plt.plot(model.history.history['loss'],label='Train Loss')\n",
        "plt.plot(model.history.history['val_loss'],label='Test Loss')\n",
        "plt.xlabel('Epochs')\n",
        "plt.ylabel('Loss')\n",
        "plt.legend()\n"
      ],
      "execution_count": 15,
      "outputs": [
        {
          "output_type": "execute_result",
          "data": {
            "text/plain": [
              "<matplotlib.legend.Legend at 0x7fe06fab8588>"
            ]
          },
          "metadata": {
            "tags": []
          },
          "execution_count": 15
        },
        {
          "output_type": "display_data",
          "data": {
            "image/png": "[encoded data removed]",
            "text/plain": [
              "<Figure size 432x288 with 1 Axes>"
            ]
          },
          "metadata": {
            "tags": [],
            "needs_background": "light"
          }
        }
      ]
    },
    {
      "cell_type": "markdown",
      "metadata": {
        "id": "6ldgyQrHVXAq"
      },
      "source": [
        "**Boston Housing-Regression analysis**"
      ]
    },
    {
      "cell_type": "code",
      "metadata": {
        "id": "HDSQ6_cFVeRq"
      },
      "source": [
        "# Import the Modules\n",
        "import keras \n",
        "\n",
        "from keras.datasets import boston_housing \n",
        "from keras.models import Sequential \n",
        "from keras.layers import Dense \n",
        "from keras.optimizers import RMSprop \n",
        "from keras.callbacks import EarlyStopping \n",
        "from sklearn import preprocessing \n",
        "from sklearn.preprocessing import scale\n"
      ],
      "execution_count": 32,
      "outputs": []
    },
    {
      "cell_type": "code",
      "metadata": {
        "id": "fWyl4GrFVlbB"
      },
      "source": [
        "# Load data: Import Boston housing dataset\n",
        "(x_train, y_train), (x_test, y_test) = boston_housing.load_data()\n"
      ],
      "execution_count": 33,
      "outputs": []
    },
    {
      "cell_type": "code",
      "metadata": {
        "id": "kkPN-JPAVr9t"
      },
      "source": [
        "# Preprocessing the dataset\n",
        "x_train_scaled = preprocessing.scale(x_train) \n",
        "scaler = preprocessing.StandardScaler().fit(x_train) \n",
        "x_test_scaled = scaler.transform(x_test)\n"
      ],
      "execution_count": 34,
      "outputs": []
    },
    {
      "cell_type": "code",
      "metadata": {
        "colab": {
          "base_uri": "https://localhost:8080/"
        },
        "id": "D5OOa24AVy7J",
        "outputId": "14ca2c1a-ef0c-4280-ba3d-8f609b507c90"
      },
      "source": [
        "model = Sequential() \n",
        "model.add(Dense(64, kernel_initializer = 'normal', activation = 'relu',\n",
        "input_shape = (13,))) \n",
        "model.add(Dense(64, activation = 'relu')) \n",
        "model.add(Dense(1))\n",
        "print(model.summary())\n"
      ],
      "execution_count": 35,
      "outputs": [
        {
          "output_type": "stream",
          "text": [
            "Model: \"sequential_4\"\n",
            "_________________________________________________________________\n",
            "Layer (type)                 Output Shape              Param #   \n",
            "=================================================================\n",
            "dense_10 (Dense)             (None, 64)                896       \n",
            "_________________________________________________________________\n",
            "dense_11 (Dense)             (None, 64)                4160      \n",
            "_________________________________________________________________\n",
            "dense_12 (Dense)             (None, 1)                 65        \n",
            "=================================================================\n",
            "Total params: 5,121\n",
            "Trainable params: 5,121\n",
            "Non-trainable params: 0\n",
            "_________________________________________________________________\n",
            "None\n"
          ],
          "name": "stdout"
        }
      ]
    },
    {
      "cell_type": "code",
      "metadata": {
        "colab": {
          "base_uri": "https://localhost:8080/"
        },
        "id": "f6xr6jPxV3ws",
        "outputId": "1f3ad541-d706-4051-b4c4-9d0595d8e732"
      },
      "source": [
        "# Model compilation\n",
        "model.compile(\n",
        "   loss = 'mse', \n",
        "   optimizer = RMSprop(), \n",
        "   metrics = ['mean_absolute_error']\n",
        ")\n",
        "# Model training\n",
        "history = model.fit(\n",
        "   x_train_scaled, y_train,    \n",
        "   batch_size=128, \n",
        "   epochs = 500, \n",
        "   verbose = 1, \n",
        "   validation_split = 0.2, \n",
        "   callbacks = [EarlyStopping(monitor = 'val_loss', patience = 20)]\n",
        ")\n"
      ],
      "execution_count": 36,
      "outputs": [
        {
          "output_type": "stream",
          "text": [
            "Epoch 1/500\n",
            "3/3 [==============================] - 0s 41ms/step - loss: 572.1320 - mean_absolute_error: 22.1057 - val_loss: 633.5259 - val_mean_absolute_error: 23.4394\n",
            "Epoch 2/500\n",
            "3/3 [==============================] - 0s 6ms/step - loss: 559.2356 - mean_absolute_error: 21.8107 - val_loss: 622.1131 - val_mean_absolute_error: 23.2026\n",
            "Epoch 3/500\n",
            "3/3 [==============================] - 0s 6ms/step - loss: 548.5209 - mean_absolute_error: 21.5750 - val_loss: 610.5115 - val_mean_absolute_error: 22.9595\n",
            "Epoch 4/500\n",
            "3/3 [==============================] - 0s 7ms/step - loss: 537.4119 - mean_absolute_error: 21.3281 - val_loss: 598.3234 - val_mean_absolute_error: 22.6995\n",
            "Epoch 5/500\n",
            "3/3 [==============================] - 0s 7ms/step - loss: 525.1472 - mean_absolute_error: 21.0585 - val_loss: 583.6946 - val_mean_absolute_error: 22.3922\n",
            "Epoch 6/500\n",
            "3/3 [==============================] - 0s 6ms/step - loss: 510.9764 - mean_absolute_error: 20.7431 - val_loss: 568.1180 - val_mean_absolute_error: 22.0589\n",
            "Epoch 7/500\n",
            "3/3 [==============================] - 0s 49ms/step - loss: 495.6123 - mean_absolute_error: 20.3989 - val_loss: 551.1197 - val_mean_absolute_error: 21.6861\n",
            "Epoch 8/500\n",
            "3/3 [==============================] - 0s 7ms/step - loss: 479.0104 - mean_absolute_error: 20.0179 - val_loss: 533.1051 - val_mean_absolute_error: 21.2784\n",
            "Epoch 9/500\n",
            "3/3 [==============================] - 0s 7ms/step - loss: 461.0295 - mean_absolute_error: 19.5909 - val_loss: 512.5355 - val_mean_absolute_error: 20.8055\n",
            "Epoch 10/500\n",
            "3/3 [==============================] - 0s 6ms/step - loss: 441.2909 - mean_absolute_error: 19.1168 - val_loss: 491.8490 - val_mean_absolute_error: 20.3163\n",
            "Epoch 11/500\n",
            "3/3 [==============================] - 0s 7ms/step - loss: 420.8799 - mean_absolute_error: 18.6157 - val_loss: 469.3192 - val_mean_absolute_error: 19.7681\n",
            "Epoch 12/500\n",
            "3/3 [==============================] - 0s 7ms/step - loss: 399.0686 - mean_absolute_error: 18.0599 - val_loss: 446.0988 - val_mean_absolute_error: 19.1860\n",
            "Epoch 13/500\n",
            "3/3 [==============================] - 0s 7ms/step - loss: 376.4902 - mean_absolute_error: 17.4721 - val_loss: 421.6504 - val_mean_absolute_error: 18.5735\n",
            "Epoch 14/500\n",
            "3/3 [==============================] - 0s 7ms/step - loss: 353.0977 - mean_absolute_error: 16.8381 - val_loss: 396.9273 - val_mean_absolute_error: 17.9275\n",
            "Epoch 15/500\n",
            "3/3 [==============================] - 0s 7ms/step - loss: 329.7499 - mean_absolute_error: 16.1791 - val_loss: 372.7930 - val_mean_absolute_error: 17.2618\n",
            "Epoch 16/500\n",
            "3/3 [==============================] - 0s 7ms/step - loss: 306.7620 - mean_absolute_error: 15.5083 - val_loss: 348.5365 - val_mean_absolute_error: 16.5610\n",
            "Epoch 17/500\n",
            "3/3 [==============================] - 0s 7ms/step - loss: 284.0353 - mean_absolute_error: 14.8118 - val_loss: 325.2651 - val_mean_absolute_error: 15.8441\n",
            "Epoch 18/500\n",
            "3/3 [==============================] - 0s 7ms/step - loss: 262.0146 - mean_absolute_error: 14.1343 - val_loss: 301.4857 - val_mean_absolute_error: 15.0770\n",
            "Epoch 19/500\n",
            "3/3 [==============================] - 0s 7ms/step - loss: 240.0321 - mean_absolute_error: 13.4066 - val_loss: 278.4248 - val_mean_absolute_error: 14.3010\n",
            "Epoch 20/500\n",
            "3/3 [==============================] - 0s 8ms/step - loss: 219.1657 - mean_absolute_error: 12.6727 - val_loss: 257.1847 - val_mean_absolute_error: 13.5417\n",
            "Epoch 21/500\n",
            "3/3 [==============================] - 0s 7ms/step - loss: 199.9523 - mean_absolute_error: 11.9600 - val_loss: 236.3145 - val_mean_absolute_error: 12.7737\n",
            "Epoch 22/500\n",
            "3/3 [==============================] - 0s 7ms/step - loss: 181.5155 - mean_absolute_error: 11.2350 - val_loss: 216.6440 - val_mean_absolute_error: 12.0146\n",
            "Epoch 23/500\n",
            "3/3 [==============================] - 0s 8ms/step - loss: 164.4007 - mean_absolute_error: 10.5880 - val_loss: 198.4553 - val_mean_absolute_error: 11.2923\n",
            "Epoch 24/500\n",
            "3/3 [==============================] - 0s 9ms/step - loss: 148.8661 - mean_absolute_error: 9.9588 - val_loss: 181.0569 - val_mean_absolute_error: 10.6289\n",
            "Epoch 25/500\n",
            "3/3 [==============================] - 0s 7ms/step - loss: 134.8003 - mean_absolute_error: 9.3942 - val_loss: 166.7037 - val_mean_absolute_error: 10.0914\n",
            "Epoch 26/500\n",
            "3/3 [==============================] - 0s 6ms/step - loss: 122.9035 - mean_absolute_error: 8.9050 - val_loss: 152.8762 - val_mean_absolute_error: 9.5696\n",
            "Epoch 27/500\n",
            "3/3 [==============================] - 0s 7ms/step - loss: 111.9962 - mean_absolute_error: 8.4339 - val_loss: 140.5221 - val_mean_absolute_error: 9.0917\n",
            "Epoch 28/500\n",
            "3/3 [==============================] - 0s 7ms/step - loss: 102.0710 - mean_absolute_error: 8.0174 - val_loss: 128.9726 - val_mean_absolute_error: 8.6841\n",
            "Epoch 29/500\n",
            "3/3 [==============================] - 0s 9ms/step - loss: 93.0793 - mean_absolute_error: 7.6143 - val_loss: 118.5525 - val_mean_absolute_error: 8.3294\n",
            "Epoch 30/500\n",
            "3/3 [==============================] - 0s 7ms/step - loss: 85.1755 - mean_absolute_error: 7.2416 - val_loss: 109.2352 - val_mean_absolute_error: 7.9796\n",
            "Epoch 31/500\n",
            "3/3 [==============================] - 0s 7ms/step - loss: 78.1271 - mean_absolute_error: 6.9085 - val_loss: 100.3628 - val_mean_absolute_error: 7.6228\n",
            "Epoch 32/500\n",
            "3/3 [==============================] - 0s 6ms/step - loss: 71.7333 - mean_absolute_error: 6.6021 - val_loss: 93.1674 - val_mean_absolute_error: 7.3122\n",
            "Epoch 33/500\n",
            "3/3 [==============================] - 0s 8ms/step - loss: 66.3198 - mean_absolute_error: 6.3029 - val_loss: 86.5406 - val_mean_absolute_error: 7.0262\n",
            "Epoch 34/500\n",
            "3/3 [==============================] - 0s 7ms/step - loss: 61.6055 - mean_absolute_error: 6.0246 - val_loss: 80.6752 - val_mean_absolute_error: 6.7653\n",
            "Epoch 35/500\n",
            "3/3 [==============================] - 0s 7ms/step - loss: 57.5817 - mean_absolute_error: 5.7878 - val_loss: 75.3369 - val_mean_absolute_error: 6.5217\n",
            "Epoch 36/500\n",
            "3/3 [==============================] - 0s 6ms/step - loss: 53.7190 - mean_absolute_error: 5.5391 - val_loss: 70.3554 - val_mean_absolute_error: 6.3314\n",
            "Epoch 37/500\n",
            "3/3 [==============================] - 0s 7ms/step - loss: 50.2213 - mean_absolute_error: 5.3290 - val_loss: 65.9960 - val_mean_absolute_error: 6.1257\n",
            "Epoch 38/500\n",
            "3/3 [==============================] - 0s 7ms/step - loss: 46.9455 - mean_absolute_error: 5.0688 - val_loss: 61.8442 - val_mean_absolute_error: 5.9087\n",
            "Epoch 39/500\n",
            "3/3 [==============================] - 0s 7ms/step - loss: 44.2285 - mean_absolute_error: 4.8822 - val_loss: 58.2511 - val_mean_absolute_error: 5.7131\n",
            "Epoch 40/500\n",
            "3/3 [==============================] - 0s 7ms/step - loss: 41.8680 - mean_absolute_error: 4.7070 - val_loss: 54.8395 - val_mean_absolute_error: 5.5409\n",
            "Epoch 41/500\n",
            "3/3 [==============================] - 0s 7ms/step - loss: 39.4639 - mean_absolute_error: 4.5277 - val_loss: 51.7161 - val_mean_absolute_error: 5.3820\n",
            "Epoch 42/500\n",
            "3/3 [==============================] - 0s 7ms/step - loss: 37.5715 - mean_absolute_error: 4.3867 - val_loss: 48.5290 - val_mean_absolute_error: 5.2300\n",
            "Epoch 43/500\n",
            "3/3 [==============================] - 0s 7ms/step - loss: 35.5435 - mean_absolute_error: 4.2362 - val_loss: 46.0712 - val_mean_absolute_error: 5.0854\n",
            "Epoch 44/500\n",
            "3/3 [==============================] - 0s 7ms/step - loss: 33.8702 - mean_absolute_error: 4.0867 - val_loss: 43.8777 - val_mean_absolute_error: 4.9496\n",
            "Epoch 45/500\n",
            "3/3 [==============================] - 0s 7ms/step - loss: 32.4563 - mean_absolute_error: 3.9728 - val_loss: 41.8246 - val_mean_absolute_error: 4.8336\n",
            "Epoch 46/500\n",
            "3/3 [==============================] - 0s 7ms/step - loss: 31.2124 - mean_absolute_error: 3.8838 - val_loss: 40.0198 - val_mean_absolute_error: 4.7115\n",
            "Epoch 47/500\n",
            "3/3 [==============================] - 0s 8ms/step - loss: 30.2978 - mean_absolute_error: 3.8103 - val_loss: 38.1202 - val_mean_absolute_error: 4.5906\n",
            "Epoch 48/500\n",
            "3/3 [==============================] - 0s 7ms/step - loss: 29.5243 - mean_absolute_error: 3.7159 - val_loss: 36.6630 - val_mean_absolute_error: 4.5568\n",
            "Epoch 49/500\n",
            "3/3 [==============================] - 0s 8ms/step - loss: 28.3228 - mean_absolute_error: 3.6624 - val_loss: 35.5111 - val_mean_absolute_error: 4.4470\n",
            "Epoch 50/500\n",
            "3/3 [==============================] - 0s 7ms/step - loss: 27.5776 - mean_absolute_error: 3.6125 - val_loss: 34.0434 - val_mean_absolute_error: 4.4302\n",
            "Epoch 51/500\n",
            "3/3 [==============================] - 0s 8ms/step - loss: 26.9059 - mean_absolute_error: 3.5684 - val_loss: 32.8606 - val_mean_absolute_error: 4.3053\n",
            "Epoch 52/500\n",
            "3/3 [==============================] - 0s 7ms/step - loss: 26.3879 - mean_absolute_error: 3.5096 - val_loss: 32.1390 - val_mean_absolute_error: 4.3419\n",
            "Epoch 53/500\n",
            "3/3 [==============================] - 0s 8ms/step - loss: 25.8382 - mean_absolute_error: 3.4917 - val_loss: 30.8898 - val_mean_absolute_error: 4.2582\n",
            "Epoch 54/500\n",
            "3/3 [==============================] - 0s 7ms/step - loss: 25.1549 - mean_absolute_error: 3.4660 - val_loss: 30.5243 - val_mean_absolute_error: 4.2391\n",
            "Epoch 55/500\n",
            "3/3 [==============================] - 0s 7ms/step - loss: 24.9428 - mean_absolute_error: 3.4442 - val_loss: 29.6663 - val_mean_absolute_error: 4.1860\n",
            "Epoch 56/500\n",
            "3/3 [==============================] - 0s 8ms/step - loss: 24.3934 - mean_absolute_error: 3.3890 - val_loss: 28.7568 - val_mean_absolute_error: 4.1192\n",
            "Epoch 57/500\n",
            "3/3 [==============================] - 0s 9ms/step - loss: 23.8052 - mean_absolute_error: 3.3364 - val_loss: 27.6644 - val_mean_absolute_error: 3.9894\n",
            "Epoch 58/500\n",
            "3/3 [==============================] - 0s 7ms/step - loss: 23.2955 - mean_absolute_error: 3.3051 - val_loss: 27.1323 - val_mean_absolute_error: 3.9480\n",
            "Epoch 59/500\n",
            "3/3 [==============================] - 0s 7ms/step - loss: 22.8468 - mean_absolute_error: 3.2596 - val_loss: 26.8363 - val_mean_absolute_error: 3.9360\n",
            "Epoch 60/500\n",
            "3/3 [==============================] - 0s 9ms/step - loss: 22.4718 - mean_absolute_error: 3.2148 - val_loss: 26.1559 - val_mean_absolute_error: 3.8847\n",
            "Epoch 61/500\n",
            "3/3 [==============================] - 0s 8ms/step - loss: 21.9418 - mean_absolute_error: 3.1883 - val_loss: 25.8428 - val_mean_absolute_error: 3.9248\n",
            "Epoch 62/500\n",
            "3/3 [==============================] - 0s 8ms/step - loss: 21.5759 - mean_absolute_error: 3.1904 - val_loss: 24.8429 - val_mean_absolute_error: 3.7751\n",
            "Epoch 63/500\n",
            "3/3 [==============================] - 0s 7ms/step - loss: 21.2311 - mean_absolute_error: 3.1323 - val_loss: 24.4119 - val_mean_absolute_error: 3.7845\n",
            "Epoch 64/500\n",
            "3/3 [==============================] - 0s 7ms/step - loss: 20.7231 - mean_absolute_error: 3.1142 - val_loss: 23.8285 - val_mean_absolute_error: 3.7043\n",
            "Epoch 65/500\n",
            "3/3 [==============================] - 0s 7ms/step - loss: 20.3166 - mean_absolute_error: 3.0751 - val_loss: 23.2211 - val_mean_absolute_error: 3.6815\n",
            "Epoch 66/500\n",
            "3/3 [==============================] - 0s 7ms/step - loss: 19.8453 - mean_absolute_error: 3.0348 - val_loss: 23.2755 - val_mean_absolute_error: 3.7209\n",
            "Epoch 67/500\n",
            "3/3 [==============================] - 0s 7ms/step - loss: 19.8282 - mean_absolute_error: 3.0373 - val_loss: 22.1185 - val_mean_absolute_error: 3.5623\n",
            "Epoch 68/500\n",
            "3/3 [==============================] - 0s 7ms/step - loss: 19.1527 - mean_absolute_error: 2.9813 - val_loss: 22.0224 - val_mean_absolute_error: 3.6024\n",
            "Epoch 69/500\n",
            "3/3 [==============================] - 0s 7ms/step - loss: 18.7486 - mean_absolute_error: 2.9534 - val_loss: 21.5366 - val_mean_absolute_error: 3.5593\n",
            "Epoch 70/500\n",
            "3/3 [==============================] - 0s 7ms/step - loss: 18.4928 - mean_absolute_error: 2.9519 - val_loss: 20.7530 - val_mean_absolute_error: 3.4296\n",
            "Epoch 71/500\n",
            "3/3 [==============================] - 0s 7ms/step - loss: 18.0600 - mean_absolute_error: 2.8908 - val_loss: 20.3781 - val_mean_absolute_error: 3.3963\n",
            "Epoch 72/500\n",
            "3/3 [==============================] - 0s 8ms/step - loss: 17.7833 - mean_absolute_error: 2.8751 - val_loss: 20.1336 - val_mean_absolute_error: 3.3960\n",
            "Epoch 73/500\n",
            "3/3 [==============================] - 0s 9ms/step - loss: 17.7102 - mean_absolute_error: 2.8505 - val_loss: 19.9059 - val_mean_absolute_error: 3.3999\n",
            "Epoch 74/500\n",
            "3/3 [==============================] - 0s 8ms/step - loss: 17.0422 - mean_absolute_error: 2.8076 - val_loss: 20.4104 - val_mean_absolute_error: 3.4951\n",
            "Epoch 75/500\n",
            "3/3 [==============================] - 0s 8ms/step - loss: 16.8820 - mean_absolute_error: 2.8042 - val_loss: 19.5108 - val_mean_absolute_error: 3.3718\n",
            "Epoch 76/500\n",
            "3/3 [==============================] - 0s 7ms/step - loss: 16.5475 - mean_absolute_error: 2.7885 - val_loss: 19.3567 - val_mean_absolute_error: 3.3554\n",
            "Epoch 77/500\n",
            "3/3 [==============================] - 0s 7ms/step - loss: 16.0377 - mean_absolute_error: 2.7335 - val_loss: 18.7564 - val_mean_absolute_error: 3.2384\n",
            "Epoch 78/500\n",
            "3/3 [==============================] - 0s 7ms/step - loss: 15.8184 - mean_absolute_error: 2.6983 - val_loss: 18.6387 - val_mean_absolute_error: 3.2669\n",
            "Epoch 79/500\n",
            "3/3 [==============================] - 0s 7ms/step - loss: 15.6522 - mean_absolute_error: 2.7038 - val_loss: 18.1951 - val_mean_absolute_error: 3.1803\n",
            "Epoch 80/500\n",
            "3/3 [==============================] - 0s 8ms/step - loss: 15.1903 - mean_absolute_error: 2.6364 - val_loss: 18.2448 - val_mean_absolute_error: 3.2410\n",
            "Epoch 81/500\n",
            "3/3 [==============================] - 0s 7ms/step - loss: 15.0138 - mean_absolute_error: 2.6482 - val_loss: 18.6493 - val_mean_absolute_error: 3.2981\n",
            "Epoch 82/500\n",
            "3/3 [==============================] - 0s 8ms/step - loss: 14.9681 - mean_absolute_error: 2.6608 - val_loss: 17.9652 - val_mean_absolute_error: 3.1388\n",
            "Epoch 83/500\n",
            "3/3 [==============================] - 0s 8ms/step - loss: 14.4805 - mean_absolute_error: 2.6065 - val_loss: 17.6698 - val_mean_absolute_error: 3.1185\n",
            "Epoch 84/500\n",
            "3/3 [==============================] - 0s 7ms/step - loss: 14.1561 - mean_absolute_error: 2.5551 - val_loss: 17.6023 - val_mean_absolute_error: 3.0794\n",
            "Epoch 85/500\n",
            "3/3 [==============================] - 0s 7ms/step - loss: 14.0266 - mean_absolute_error: 2.5593 - val_loss: 17.2346 - val_mean_absolute_error: 3.0933\n",
            "Epoch 86/500\n",
            "3/3 [==============================] - 0s 7ms/step - loss: 13.7022 - mean_absolute_error: 2.5083 - val_loss: 16.9978 - val_mean_absolute_error: 3.0211\n",
            "Epoch 87/500\n",
            "3/3 [==============================] - 0s 9ms/step - loss: 13.6304 - mean_absolute_error: 2.4876 - val_loss: 16.9087 - val_mean_absolute_error: 3.0583\n",
            "Epoch 88/500\n",
            "3/3 [==============================] - 0s 8ms/step - loss: 13.2070 - mean_absolute_error: 2.4486 - val_loss: 17.0795 - val_mean_absolute_error: 2.9711\n",
            "Epoch 89/500\n",
            "3/3 [==============================] - 0s 8ms/step - loss: 12.9823 - mean_absolute_error: 2.4463 - val_loss: 17.1326 - val_mean_absolute_error: 3.0743\n",
            "Epoch 90/500\n",
            "3/3 [==============================] - 0s 8ms/step - loss: 12.7542 - mean_absolute_error: 2.4359 - val_loss: 16.4632 - val_mean_absolute_error: 2.9334\n",
            "Epoch 91/500\n",
            "3/3 [==============================] - 0s 8ms/step - loss: 12.7076 - mean_absolute_error: 2.3790 - val_loss: 17.0684 - val_mean_absolute_error: 3.0908\n",
            "Epoch 92/500\n",
            "3/3 [==============================] - 0s 9ms/step - loss: 12.4179 - mean_absolute_error: 2.3837 - val_loss: 16.2532 - val_mean_absolute_error: 2.9462\n",
            "Epoch 93/500\n",
            "3/3 [==============================] - 0s 7ms/step - loss: 12.4038 - mean_absolute_error: 2.3880 - val_loss: 16.0409 - val_mean_absolute_error: 2.8973\n",
            "Epoch 94/500\n",
            "3/3 [==============================] - 0s 8ms/step - loss: 12.0928 - mean_absolute_error: 2.3421 - val_loss: 16.0400 - val_mean_absolute_error: 2.9735\n",
            "Epoch 95/500\n",
            "3/3 [==============================] - 0s 7ms/step - loss: 11.8900 - mean_absolute_error: 2.2903 - val_loss: 15.8169 - val_mean_absolute_error: 2.8659\n",
            "Epoch 96/500\n",
            "3/3 [==============================] - 0s 8ms/step - loss: 11.7278 - mean_absolute_error: 2.3062 - val_loss: 15.5524 - val_mean_absolute_error: 2.8799\n",
            "Epoch 97/500\n",
            "3/3 [==============================] - 0s 8ms/step - loss: 11.4615 - mean_absolute_error: 2.2585 - val_loss: 15.9712 - val_mean_absolute_error: 2.9533\n",
            "Epoch 98/500\n",
            "3/3 [==============================] - 0s 8ms/step - loss: 11.2828 - mean_absolute_error: 2.2392 - val_loss: 16.1939 - val_mean_absolute_error: 2.8023\n",
            "Epoch 99/500\n",
            "3/3 [==============================] - 0s 8ms/step - loss: 11.1815 - mean_absolute_error: 2.2741 - val_loss: 15.5333 - val_mean_absolute_error: 2.8170\n",
            "Epoch 100/500\n",
            "3/3 [==============================] - 0s 7ms/step - loss: 11.1622 - mean_absolute_error: 2.2488 - val_loss: 15.6839 - val_mean_absolute_error: 2.7447\n",
            "Epoch 101/500\n",
            "3/3 [==============================] - 0s 8ms/step - loss: 11.2678 - mean_absolute_error: 2.2493 - val_loss: 15.9888 - val_mean_absolute_error: 2.8825\n",
            "Epoch 102/500\n",
            "3/3 [==============================] - 0s 8ms/step - loss: 10.7644 - mean_absolute_error: 2.2016 - val_loss: 16.0498 - val_mean_absolute_error: 2.8265\n",
            "Epoch 103/500\n",
            "3/3 [==============================] - 0s 9ms/step - loss: 10.7810 - mean_absolute_error: 2.2280 - val_loss: 16.9714 - val_mean_absolute_error: 2.9491\n",
            "Epoch 104/500\n",
            "3/3 [==============================] - 0s 8ms/step - loss: 10.5569 - mean_absolute_error: 2.2124 - val_loss: 15.5586 - val_mean_absolute_error: 2.7614\n",
            "Epoch 105/500\n",
            "3/3 [==============================] - 0s 9ms/step - loss: 10.3293 - mean_absolute_error: 2.1564 - val_loss: 15.4786 - val_mean_absolute_error: 2.7599\n",
            "Epoch 106/500\n",
            "3/3 [==============================] - 0s 8ms/step - loss: 10.2471 - mean_absolute_error: 2.1583 - val_loss: 15.4833 - val_mean_absolute_error: 2.7837\n",
            "Epoch 107/500\n",
            "3/3 [==============================] - 0s 7ms/step - loss: 10.2111 - mean_absolute_error: 2.1670 - val_loss: 15.2980 - val_mean_absolute_error: 2.7198\n",
            "Epoch 108/500\n",
            "3/3 [==============================] - 0s 7ms/step - loss: 10.0132 - mean_absolute_error: 2.1243 - val_loss: 15.4910 - val_mean_absolute_error: 2.7453\n",
            "Epoch 109/500\n",
            "3/3 [==============================] - 0s 7ms/step - loss: 10.0258 - mean_absolute_error: 2.1233 - val_loss: 15.4452 - val_mean_absolute_error: 2.8109\n",
            "Epoch 110/500\n",
            "3/3 [==============================] - 0s 8ms/step - loss: 10.0633 - mean_absolute_error: 2.1480 - val_loss: 15.1187 - val_mean_absolute_error: 2.7766\n",
            "Epoch 111/500\n",
            "3/3 [==============================] - 0s 8ms/step - loss: 9.8827 - mean_absolute_error: 2.1229 - val_loss: 15.2004 - val_mean_absolute_error: 2.6530\n",
            "Epoch 112/500\n",
            "3/3 [==============================] - 0s 8ms/step - loss: 9.6771 - mean_absolute_error: 2.1082 - val_loss: 14.7486 - val_mean_absolute_error: 2.7103\n",
            "Epoch 113/500\n",
            "3/3 [==============================] - 0s 7ms/step - loss: 10.0607 - mean_absolute_error: 2.1705 - val_loss: 14.6763 - val_mean_absolute_error: 2.7511\n",
            "Epoch 114/500\n",
            "3/3 [==============================] - 0s 8ms/step - loss: 9.6042 - mean_absolute_error: 2.0775 - val_loss: 15.1024 - val_mean_absolute_error: 2.7321\n",
            "Epoch 115/500\n",
            "3/3 [==============================] - 0s 7ms/step - loss: 9.6159 - mean_absolute_error: 2.0831 - val_loss: 15.4381 - val_mean_absolute_error: 2.7304\n",
            "Epoch 116/500\n",
            "3/3 [==============================] - 0s 8ms/step - loss: 9.5780 - mean_absolute_error: 2.1042 - val_loss: 15.3608 - val_mean_absolute_error: 2.6923\n",
            "Epoch 117/500\n",
            "3/3 [==============================] - 0s 9ms/step - loss: 9.3144 - mean_absolute_error: 2.0968 - val_loss: 14.6782 - val_mean_absolute_error: 2.6672\n",
            "Epoch 118/500\n",
            "3/3 [==============================] - 0s 7ms/step - loss: 9.2391 - mean_absolute_error: 2.0558 - val_loss: 14.7802 - val_mean_absolute_error: 2.6948\n",
            "Epoch 119/500\n",
            "3/3 [==============================] - 0s 9ms/step - loss: 9.5026 - mean_absolute_error: 2.1153 - val_loss: 14.4921 - val_mean_absolute_error: 2.6102\n",
            "Epoch 120/500\n",
            "3/3 [==============================] - 0s 7ms/step - loss: 9.2265 - mean_absolute_error: 2.0485 - val_loss: 14.8744 - val_mean_absolute_error: 2.6396\n",
            "Epoch 121/500\n",
            "3/3 [==============================] - 0s 7ms/step - loss: 9.0934 - mean_absolute_error: 2.0720 - val_loss: 14.3178 - val_mean_absolute_error: 2.5849\n",
            "Epoch 122/500\n",
            "3/3 [==============================] - 0s 8ms/step - loss: 9.0191 - mean_absolute_error: 2.0405 - val_loss: 14.3714 - val_mean_absolute_error: 2.6269\n",
            "Epoch 123/500\n",
            "3/3 [==============================] - 0s 8ms/step - loss: 9.1743 - mean_absolute_error: 2.0638 - val_loss: 14.8811 - val_mean_absolute_error: 2.7168\n",
            "Epoch 124/500\n",
            "3/3 [==============================] - 0s 8ms/step - loss: 9.1041 - mean_absolute_error: 2.0788 - val_loss: 14.2870 - val_mean_absolute_error: 2.6105\n",
            "Epoch 125/500\n",
            "3/3 [==============================] - 0s 8ms/step - loss: 8.9169 - mean_absolute_error: 2.0342 - val_loss: 14.7977 - val_mean_absolute_error: 2.5787\n",
            "Epoch 126/500\n",
            "3/3 [==============================] - 0s 8ms/step - loss: 8.9550 - mean_absolute_error: 2.0606 - val_loss: 14.4560 - val_mean_absolute_error: 2.5915\n",
            "Epoch 127/500\n",
            "3/3 [==============================] - 0s 8ms/step - loss: 8.8474 - mean_absolute_error: 2.0414 - val_loss: 14.7133 - val_mean_absolute_error: 2.5844\n",
            "Epoch 128/500\n",
            "3/3 [==============================] - 0s 8ms/step - loss: 8.8684 - mean_absolute_error: 2.0237 - val_loss: 14.7312 - val_mean_absolute_error: 2.6262\n",
            "Epoch 129/500\n",
            "3/3 [==============================] - 0s 7ms/step - loss: 8.8555 - mean_absolute_error: 2.0351 - val_loss: 14.8049 - val_mean_absolute_error: 2.6231\n",
            "Epoch 130/500\n",
            "3/3 [==============================] - 0s 8ms/step - loss: 8.7347 - mean_absolute_error: 2.0432 - val_loss: 14.3192 - val_mean_absolute_error: 2.6651\n",
            "Epoch 131/500\n",
            "3/3 [==============================] - 0s 7ms/step - loss: 8.9015 - mean_absolute_error: 2.0235 - val_loss: 14.2987 - val_mean_absolute_error: 2.6645\n",
            "Epoch 132/500\n",
            "3/3 [==============================] - 0s 8ms/step - loss: 8.7118 - mean_absolute_error: 2.0125 - val_loss: 14.2099 - val_mean_absolute_error: 2.5639\n",
            "Epoch 133/500\n",
            "3/3 [==============================] - 0s 8ms/step - loss: 8.6550 - mean_absolute_error: 2.0151 - val_loss: 14.0526 - val_mean_absolute_error: 2.5875\n",
            "Epoch 134/500\n",
            "3/3 [==============================] - 0s 9ms/step - loss: 8.6225 - mean_absolute_error: 2.0121 - val_loss: 14.0374 - val_mean_absolute_error: 2.6011\n",
            "Epoch 135/500\n",
            "3/3 [==============================] - 0s 8ms/step - loss: 8.6713 - mean_absolute_error: 2.0017 - val_loss: 14.1479 - val_mean_absolute_error: 2.5811\n",
            "Epoch 136/500\n",
            "3/3 [==============================] - 0s 8ms/step - loss: 8.7134 - mean_absolute_error: 1.9997 - val_loss: 14.4898 - val_mean_absolute_error: 2.6436\n",
            "Epoch 137/500\n",
            "3/3 [==============================] - 0s 7ms/step - loss: 8.4972 - mean_absolute_error: 1.9768 - val_loss: 14.6679 - val_mean_absolute_error: 2.5593\n",
            "Epoch 138/500\n",
            "3/3 [==============================] - 0s 7ms/step - loss: 8.5749 - mean_absolute_error: 2.0115 - val_loss: 14.3791 - val_mean_absolute_error: 2.5738\n",
            "Epoch 139/500\n",
            "3/3 [==============================] - 0s 9ms/step - loss: 8.3403 - mean_absolute_error: 1.9873 - val_loss: 14.3630 - val_mean_absolute_error: 2.6047\n",
            "Epoch 140/500\n",
            "3/3 [==============================] - 0s 7ms/step - loss: 8.4604 - mean_absolute_error: 1.9745 - val_loss: 15.6328 - val_mean_absolute_error: 2.6920\n",
            "Epoch 141/500\n",
            "3/3 [==============================] - 0s 8ms/step - loss: 8.4925 - mean_absolute_error: 2.0276 - val_loss: 14.5287 - val_mean_absolute_error: 2.5692\n",
            "Epoch 142/500\n",
            "3/3 [==============================] - 0s 7ms/step - loss: 8.5096 - mean_absolute_error: 2.0077 - val_loss: 14.3223 - val_mean_absolute_error: 2.6377\n",
            "Epoch 143/500\n",
            "3/3 [==============================] - 0s 8ms/step - loss: 8.4346 - mean_absolute_error: 2.0070 - val_loss: 13.9014 - val_mean_absolute_error: 2.5502\n",
            "Epoch 144/500\n",
            "3/3 [==============================] - 0s 8ms/step - loss: 8.3004 - mean_absolute_error: 1.9806 - val_loss: 13.8088 - val_mean_absolute_error: 2.5516\n",
            "Epoch 145/500\n",
            "3/3 [==============================] - 0s 8ms/step - loss: 8.3095 - mean_absolute_error: 1.9630 - val_loss: 14.1503 - val_mean_absolute_error: 2.6238\n",
            "Epoch 146/500\n",
            "3/3 [==============================] - 0s 8ms/step - loss: 8.1975 - mean_absolute_error: 1.9498 - val_loss: 14.5561 - val_mean_absolute_error: 2.6161\n",
            "Epoch 147/500\n",
            "3/3 [==============================] - 0s 8ms/step - loss: 8.3094 - mean_absolute_error: 2.0008 - val_loss: 14.2837 - val_mean_absolute_error: 2.5669\n",
            "Epoch 148/500\n",
            "3/3 [==============================] - 0s 7ms/step - loss: 8.0866 - mean_absolute_error: 1.9552 - val_loss: 13.9851 - val_mean_absolute_error: 2.5873\n",
            "Epoch 149/500\n",
            "3/3 [==============================] - 0s 10ms/step - loss: 8.1458 - mean_absolute_error: 1.9467 - val_loss: 14.0359 - val_mean_absolute_error: 2.5920\n",
            "Epoch 150/500\n",
            "3/3 [==============================] - 0s 8ms/step - loss: 8.1473 - mean_absolute_error: 1.9451 - val_loss: 14.3037 - val_mean_absolute_error: 2.5653\n",
            "Epoch 151/500\n",
            "3/3 [==============================] - 0s 8ms/step - loss: 8.1424 - mean_absolute_error: 1.9495 - val_loss: 14.4356 - val_mean_absolute_error: 2.5487\n",
            "Epoch 152/500\n",
            "3/3 [==============================] - 0s 8ms/step - loss: 8.3709 - mean_absolute_error: 2.0282 - val_loss: 14.0383 - val_mean_absolute_error: 2.5847\n",
            "Epoch 153/500\n",
            "3/3 [==============================] - 0s 8ms/step - loss: 8.2695 - mean_absolute_error: 1.9983 - val_loss: 13.8831 - val_mean_absolute_error: 2.5127\n",
            "Epoch 154/500\n",
            "3/3 [==============================] - 0s 8ms/step - loss: 8.0056 - mean_absolute_error: 1.9329 - val_loss: 14.3699 - val_mean_absolute_error: 2.5368\n",
            "Epoch 155/500\n",
            "3/3 [==============================] - 0s 7ms/step - loss: 8.0067 - mean_absolute_error: 1.9455 - val_loss: 14.2402 - val_mean_absolute_error: 2.5300\n",
            "Epoch 156/500\n",
            "3/3 [==============================] - 0s 8ms/step - loss: 7.9342 - mean_absolute_error: 1.9371 - val_loss: 13.7278 - val_mean_absolute_error: 2.5217\n",
            "Epoch 157/500\n",
            "3/3 [==============================] - 0s 10ms/step - loss: 7.8938 - mean_absolute_error: 1.9242 - val_loss: 14.0770 - val_mean_absolute_error: 2.5101\n",
            "Epoch 158/500\n",
            "3/3 [==============================] - 0s 7ms/step - loss: 8.0105 - mean_absolute_error: 1.9626 - val_loss: 13.5009 - val_mean_absolute_error: 2.5384\n",
            "Epoch 159/500\n",
            "3/3 [==============================] - 0s 9ms/step - loss: 8.0166 - mean_absolute_error: 1.9257 - val_loss: 13.9326 - val_mean_absolute_error: 2.5421\n",
            "Epoch 160/500\n",
            "3/3 [==============================] - 0s 8ms/step - loss: 7.8392 - mean_absolute_error: 1.9276 - val_loss: 13.4925 - val_mean_absolute_error: 2.5229\n",
            "Epoch 161/500\n",
            "3/3 [==============================] - 0s 8ms/step - loss: 7.8720 - mean_absolute_error: 1.9150 - val_loss: 14.4177 - val_mean_absolute_error: 2.5034\n",
            "Epoch 162/500\n",
            "3/3 [==============================] - 0s 8ms/step - loss: 7.8671 - mean_absolute_error: 1.9355 - val_loss: 13.7727 - val_mean_absolute_error: 2.5187\n",
            "Epoch 163/500\n",
            "3/3 [==============================] - 0s 8ms/step - loss: 7.8764 - mean_absolute_error: 1.9242 - val_loss: 13.3895 - val_mean_absolute_error: 2.5611\n",
            "Epoch 164/500\n",
            "3/3 [==============================] - 0s 9ms/step - loss: 7.7758 - mean_absolute_error: 1.8937 - val_loss: 13.9835 - val_mean_absolute_error: 2.4924\n",
            "Epoch 165/500\n",
            "3/3 [==============================] - 0s 9ms/step - loss: 7.8133 - mean_absolute_error: 1.9381 - val_loss: 13.4692 - val_mean_absolute_error: 2.5861\n",
            "Epoch 166/500\n",
            "3/3 [==============================] - 0s 9ms/step - loss: 7.8735 - mean_absolute_error: 1.9134 - val_loss: 13.5689 - val_mean_absolute_error: 2.4881\n",
            "Epoch 167/500\n",
            "3/3 [==============================] - 0s 8ms/step - loss: 7.6886 - mean_absolute_error: 1.9058 - val_loss: 13.2730 - val_mean_absolute_error: 2.4881\n",
            "Epoch 168/500\n",
            "3/3 [==============================] - 0s 9ms/step - loss: 7.7366 - mean_absolute_error: 1.8950 - val_loss: 13.9573 - val_mean_absolute_error: 2.5506\n",
            "Epoch 169/500\n",
            "3/3 [==============================] - 0s 8ms/step - loss: 7.7183 - mean_absolute_error: 1.9455 - val_loss: 13.4944 - val_mean_absolute_error: 2.5352\n",
            "Epoch 170/500\n",
            "3/3 [==============================] - 0s 9ms/step - loss: 7.7237 - mean_absolute_error: 1.9093 - val_loss: 13.3216 - val_mean_absolute_error: 2.5652\n",
            "Epoch 171/500\n",
            "3/3 [==============================] - 0s 9ms/step - loss: 7.9259 - mean_absolute_error: 1.9304 - val_loss: 13.5130 - val_mean_absolute_error: 2.4947\n",
            "Epoch 172/500\n",
            "3/3 [==============================] - 0s 8ms/step - loss: 7.7186 - mean_absolute_error: 1.9037 - val_loss: 14.1552 - val_mean_absolute_error: 2.4777\n",
            "Epoch 173/500\n",
            "3/3 [==============================] - 0s 8ms/step - loss: 7.6744 - mean_absolute_error: 1.9214 - val_loss: 13.4140 - val_mean_absolute_error: 2.5118\n",
            "Epoch 174/500\n",
            "3/3 [==============================] - 0s 8ms/step - loss: 7.5520 - mean_absolute_error: 1.8799 - val_loss: 13.7869 - val_mean_absolute_error: 2.5091\n",
            "Epoch 175/500\n",
            "3/3 [==============================] - 0s 8ms/step - loss: 7.5038 - mean_absolute_error: 1.8840 - val_loss: 14.0284 - val_mean_absolute_error: 2.5253\n",
            "Epoch 176/500\n",
            "3/3 [==============================] - 0s 8ms/step - loss: 7.6216 - mean_absolute_error: 1.9066 - val_loss: 13.6410 - val_mean_absolute_error: 2.5272\n",
            "Epoch 177/500\n",
            "3/3 [==============================] - 0s 9ms/step - loss: 7.5363 - mean_absolute_error: 1.8662 - val_loss: 14.7298 - val_mean_absolute_error: 2.5192\n",
            "Epoch 178/500\n",
            "3/3 [==============================] - 0s 8ms/step - loss: 7.6146 - mean_absolute_error: 1.9383 - val_loss: 13.6174 - val_mean_absolute_error: 2.5133\n",
            "Epoch 179/500\n",
            "3/3 [==============================] - 0s 8ms/step - loss: 7.6496 - mean_absolute_error: 1.8783 - val_loss: 13.5889 - val_mean_absolute_error: 2.4949\n",
            "Epoch 180/500\n",
            "3/3 [==============================] - 0s 7ms/step - loss: 7.6593 - mean_absolute_error: 1.9095 - val_loss: 14.1318 - val_mean_absolute_error: 2.6004\n",
            "Epoch 181/500\n",
            "3/3 [==============================] - 0s 10ms/step - loss: 7.4602 - mean_absolute_error: 1.9243 - val_loss: 13.7344 - val_mean_absolute_error: 2.4689\n",
            "Epoch 182/500\n",
            "3/3 [==============================] - 0s 9ms/step - loss: 7.4580 - mean_absolute_error: 1.8703 - val_loss: 14.5070 - val_mean_absolute_error: 2.5134\n",
            "Epoch 183/500\n",
            "3/3 [==============================] - 0s 8ms/step - loss: 7.5772 - mean_absolute_error: 1.9134 - val_loss: 13.4693 - val_mean_absolute_error: 2.5427\n",
            "Epoch 184/500\n",
            "3/3 [==============================] - 0s 9ms/step - loss: 7.3372 - mean_absolute_error: 1.8568 - val_loss: 13.6982 - val_mean_absolute_error: 2.5010\n",
            "Epoch 185/500\n",
            "3/3 [==============================] - 0s 9ms/step - loss: 7.7507 - mean_absolute_error: 1.9304 - val_loss: 13.3878 - val_mean_absolute_error: 2.5731\n",
            "Epoch 186/500\n",
            "3/3 [==============================] - 0s 9ms/step - loss: 7.5113 - mean_absolute_error: 1.8704 - val_loss: 13.4411 - val_mean_absolute_error: 2.4629\n",
            "Epoch 187/500\n",
            "3/3 [==============================] - 0s 9ms/step - loss: 7.3781 - mean_absolute_error: 1.8800 - val_loss: 13.2341 - val_mean_absolute_error: 2.4730\n",
            "Epoch 188/500\n",
            "3/3 [==============================] - 0s 8ms/step - loss: 7.3320 - mean_absolute_error: 1.8669 - val_loss: 13.3978 - val_mean_absolute_error: 2.4537\n",
            "Epoch 189/500\n",
            "3/3 [==============================] - 0s 10ms/step - loss: 7.2253 - mean_absolute_error: 1.8355 - val_loss: 13.6611 - val_mean_absolute_error: 2.5330\n",
            "Epoch 190/500\n",
            "3/3 [==============================] - 0s 12ms/step - loss: 7.2963 - mean_absolute_error: 1.8582 - val_loss: 13.1016 - val_mean_absolute_error: 2.4695\n",
            "Epoch 191/500\n",
            "3/3 [==============================] - 0s 10ms/step - loss: 7.3771 - mean_absolute_error: 1.8875 - val_loss: 13.5720 - val_mean_absolute_error: 2.5679\n",
            "Epoch 192/500\n",
            "3/3 [==============================] - 0s 8ms/step - loss: 7.3978 - mean_absolute_error: 1.8861 - val_loss: 13.3416 - val_mean_absolute_error: 2.5148\n",
            "Epoch 193/500\n",
            "3/3 [==============================] - 0s 9ms/step - loss: 7.3343 - mean_absolute_error: 1.8690 - val_loss: 13.2872 - val_mean_absolute_error: 2.4739\n",
            "Epoch 194/500\n",
            "3/3 [==============================] - 0s 9ms/step - loss: 7.3455 - mean_absolute_error: 1.8576 - val_loss: 13.4916 - val_mean_absolute_error: 2.4571\n",
            "Epoch 195/500\n",
            "3/3 [==============================] - 0s 8ms/step - loss: 7.3084 - mean_absolute_error: 1.8381 - val_loss: 13.6989 - val_mean_absolute_error: 2.4713\n",
            "Epoch 196/500\n",
            "3/3 [==============================] - 0s 9ms/step - loss: 7.2955 - mean_absolute_error: 1.8818 - val_loss: 13.4863 - val_mean_absolute_error: 2.4572\n",
            "Epoch 197/500\n",
            "3/3 [==============================] - 0s 8ms/step - loss: 7.2634 - mean_absolute_error: 1.8487 - val_loss: 13.2836 - val_mean_absolute_error: 2.4753\n",
            "Epoch 198/500\n",
            "3/3 [==============================] - 0s 8ms/step - loss: 7.2729 - mean_absolute_error: 1.8530 - val_loss: 13.0160 - val_mean_absolute_error: 2.5534\n",
            "Epoch 199/500\n",
            "3/3 [==============================] - 0s 9ms/step - loss: 7.3425 - mean_absolute_error: 1.8472 - val_loss: 13.4061 - val_mean_absolute_error: 2.4651\n",
            "Epoch 200/500\n",
            "3/3 [==============================] - 0s 10ms/step - loss: 7.3289 - mean_absolute_error: 1.8550 - val_loss: 13.0673 - val_mean_absolute_error: 2.4514\n",
            "Epoch 201/500\n",
            "3/3 [==============================] - 0s 10ms/step - loss: 7.1125 - mean_absolute_error: 1.8316 - val_loss: 12.7481 - val_mean_absolute_error: 2.4811\n",
            "Epoch 202/500\n",
            "3/3 [==============================] - 0s 9ms/step - loss: 7.1818 - mean_absolute_error: 1.8325 - val_loss: 12.8861 - val_mean_absolute_error: 2.4448\n",
            "Epoch 203/500\n",
            "3/3 [==============================] - 0s 8ms/step - loss: 7.3254 - mean_absolute_error: 1.8286 - val_loss: 12.9147 - val_mean_absolute_error: 2.4452\n",
            "Epoch 204/500\n",
            "3/3 [==============================] - 0s 9ms/step - loss: 7.1004 - mean_absolute_error: 1.8043 - val_loss: 13.4468 - val_mean_absolute_error: 2.4225\n",
            "Epoch 205/500\n",
            "3/3 [==============================] - 0s 9ms/step - loss: 7.1089 - mean_absolute_error: 1.8475 - val_loss: 13.2995 - val_mean_absolute_error: 2.4519\n",
            "Epoch 206/500\n",
            "3/3 [==============================] - 0s 9ms/step - loss: 7.0752 - mean_absolute_error: 1.8324 - val_loss: 13.2606 - val_mean_absolute_error: 2.4172\n",
            "Epoch 207/500\n",
            "3/3 [==============================] - 0s 11ms/step - loss: 7.0150 - mean_absolute_error: 1.8444 - val_loss: 13.3386 - val_mean_absolute_error: 2.4569\n",
            "Epoch 208/500\n",
            "3/3 [==============================] - 0s 7ms/step - loss: 6.9584 - mean_absolute_error: 1.8018 - val_loss: 14.0215 - val_mean_absolute_error: 2.4343\n",
            "Epoch 209/500\n",
            "3/3 [==============================] - 0s 9ms/step - loss: 7.1068 - mean_absolute_error: 1.8411 - val_loss: 14.2832 - val_mean_absolute_error: 2.4437\n",
            "Epoch 210/500\n",
            "3/3 [==============================] - 0s 9ms/step - loss: 7.5161 - mean_absolute_error: 1.9500 - val_loss: 13.8236 - val_mean_absolute_error: 2.4287\n",
            "Epoch 211/500\n",
            "3/3 [==============================] - 0s 10ms/step - loss: 7.1995 - mean_absolute_error: 1.8390 - val_loss: 14.2998 - val_mean_absolute_error: 2.4621\n",
            "Epoch 212/500\n",
            "3/3 [==============================] - 0s 10ms/step - loss: 7.0433 - mean_absolute_error: 1.8728 - val_loss: 13.0443 - val_mean_absolute_error: 2.4872\n",
            "Epoch 213/500\n",
            "3/3 [==============================] - 0s 7ms/step - loss: 6.9223 - mean_absolute_error: 1.7934 - val_loss: 13.8142 - val_mean_absolute_error: 2.4315\n",
            "Epoch 214/500\n",
            "3/3 [==============================] - 0s 8ms/step - loss: 6.9790 - mean_absolute_error: 1.8572 - val_loss: 13.0040 - val_mean_absolute_error: 2.4717\n",
            "Epoch 215/500\n",
            "3/3 [==============================] - 0s 8ms/step - loss: 7.0549 - mean_absolute_error: 1.8205 - val_loss: 13.4894 - val_mean_absolute_error: 2.4289\n",
            "Epoch 216/500\n",
            "3/3 [==============================] - 0s 8ms/step - loss: 6.8931 - mean_absolute_error: 1.8216 - val_loss: 13.3256 - val_mean_absolute_error: 2.4238\n",
            "Epoch 217/500\n",
            "3/3 [==============================] - 0s 9ms/step - loss: 6.9221 - mean_absolute_error: 1.8109 - val_loss: 13.6514 - val_mean_absolute_error: 2.5700\n",
            "Epoch 218/500\n",
            "3/3 [==============================] - 0s 9ms/step - loss: 7.3854 - mean_absolute_error: 1.8757 - val_loss: 13.5554 - val_mean_absolute_error: 2.4384\n",
            "Epoch 219/500\n",
            "3/3 [==============================] - 0s 8ms/step - loss: 7.0397 - mean_absolute_error: 1.8345 - val_loss: 13.7116 - val_mean_absolute_error: 2.4605\n",
            "Epoch 220/500\n",
            "3/3 [==============================] - 0s 11ms/step - loss: 6.9375 - mean_absolute_error: 1.8097 - val_loss: 13.3488 - val_mean_absolute_error: 2.4153\n",
            "Epoch 221/500\n",
            "3/3 [==============================] - 0s 8ms/step - loss: 6.8719 - mean_absolute_error: 1.8114 - val_loss: 13.7544 - val_mean_absolute_error: 2.4255\n"
          ],
          "name": "stdout"
        }
      ]
    },
    {
      "cell_type": "code",
      "metadata": {
        "colab": {
          "base_uri": "https://localhost:8080/",
          "height": 297
        },
        "id": "cfWeg4AwV-jY",
        "outputId": "3007ef38-b8ec-4187-f69c-0fac9abc6df6"
      },
      "source": [
        "import matplotlib.pyplot as plt\n",
        "plt.plot(model.history.history['loss'],label='Train Loss')\n",
        "plt.plot(model.history.history['val_loss'],label='Test Loss')\n",
        "plt.xlabel('Epochs')\n",
        "plt.ylabel('Loss')\n",
        "plt.legend()\n"
      ],
      "execution_count": 37,
      "outputs": [
        {
          "output_type": "execute_result",
          "data": {
            "text/plain": [
              "<matplotlib.legend.Legend at 0x7fe070badb38>"
            ]
          },
          "metadata": {
            "tags": []
          },
          "execution_count": 37
        },
        {
          "output_type": "display_data",
          "data": {
            "image/png": "[encoded data removed]",
            "text/plain": [
              "<Figure size 432x288 with 1 Axes>"
            ]
          },
          "metadata": {
            "tags": [],
            "needs_background": "light"
          }
        }
      ]
    },
    {
      "cell_type": "code",
      "metadata": {
        "colab": {
          "base_uri": "https://localhost:8080/",
          "height": 297
        },
        "id": "epFqRMtPWCM5",
        "outputId": "b7a4af10-fe4f-4ff8-97cf-874cb2a9d8bc"
      },
      "source": [
        "plt.plot(model.history.history['mean_absolute_error'],label='Train MAE')\n",
        "plt.plot(model.history.history['val_mean_absolute_error'],label='Test MAE')\n",
        "plt.xlabel('Epochs')\n",
        "plt.ylabel('Accuracy')\n",
        "plt.legend()\n"
      ],
      "execution_count": 38,
      "outputs": [
        {
          "output_type": "execute_result",
          "data": {
            "text/plain": [
              "<matplotlib.legend.Legend at 0x7fe06f597b70>"
            ]
          },
          "metadata": {
            "tags": []
          },
          "execution_count": 38
        },
        {
          "output_type": "display_data",
          "data": {
            "image/png": "[encoded data removed]",
            "text/plain": [
              "<Figure size 432x288 with 1 Axes>"
            ]
          },
          "metadata": {
            "tags": [],
            "needs_background": "light"
          }
        }
      ]
    },
    {
      "cell_type": "code",
      "metadata": {
        "id": "jkuhUn7kWKiK"
      },
      "source": [
        "# Predict output for test inputs\n",
        "y_hat = model.predict([x_test_scaled])\n"
      ],
      "execution_count": 39,
      "outputs": []
    },
    {
      "cell_type": "code",
      "metadata": {
        "colab": {
          "base_uri": "https://localhost:8080/"
        },
        "id": "4uV4txjXWOaD",
        "outputId": "2a1ed365-0840-43b7-fbcb-98f3e78f1e49"
      },
      "source": [
        "import numpy as np\n",
        "# Computation of RMSE\n",
        "sse = 0\n",
        "n = len(y_hat)\n",
        "for i in range(n):\n",
        "        sse += (y_test[i] - y_hat[i]) ** 2\n",
        "    \n",
        "rmse = np.sqrt(sse/len(y_hat))\n",
        "print('RMSE: ' ,rmse)\n",
        "\n",
        "# Percentage of errorr margine \n",
        "y_range = y_test.max() - y_test.min()# Then we compute the RMSE as a percentage of the range of y\n",
        "error_margin = (rmse / y_range) * 100\n",
        "print ('Percentage of error margine: ',error_margin)\n"
      ],
      "execution_count": 40,
      "outputs": [
        {
          "output_type": "stream",
          "text": [
            "RMSE:  [4.7243757]\n",
            "Percentage of error margine:  [10.640486]\n"
          ],
          "name": "stdout"
        }
      ]
    },
    {
      "cell_type": "code",
      "metadata": {
        "colab": {
          "base_uri": "https://localhost:8080/"
        },
        "id": "7MhXcLNEWUME",
        "outputId": "2b068889-8e6a-429f-9832-18bac6ef0d50"
      },
      "source": [
        "# Computation of R-square\n",
        "sumofsquares = 0\n",
        "sumofresiduals = 0\n",
        "y_mean = np.mean(y_test)\n",
        "for i in range(n) :\n",
        "    sumofsquares += (y_test[i] - y_mean) ** 2\n",
        "    sumofresiduals += (y_test[i] - y_hat[i]) ** 2\n",
        "    \n",
        "score  = 1 - (sumofresiduals/sumofsquares)\n",
        "print(\"R-square value: \" ,score)\n"
      ],
      "execution_count": 41,
      "outputs": [
        {
          "output_type": "stream",
          "text": [
            "R-square value:  [0.73187536]\n"
          ],
          "name": "stdout"
        }
      ]
    }
  ]
}